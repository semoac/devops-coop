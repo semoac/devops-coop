{
 "cells": [
  {
   "cell_type": "code",
   "execution_count": null,
   "metadata": {},
   "outputs": [],
   "source": [
    "from coop.experimental import Experimental\n",
    "exp = Experimental()\n",
    "c = exp.k8s_v1_core_client"
   ]
  },
  {
   "cell_type": "code",
   "execution_count": null,
   "metadata": {},
   "outputs": [],
   "source": [
    "r = c.list_namespace(label_selector=\"environment=experimental\")\n",
    "[n for n in r.items]"
   ]
  },
  {
   "cell_type": "code",
   "execution_count": null,
   "metadata": {},
   "outputs": [],
   "source": [
    "from datetime import datetime\n",
    "from typing import Self\n",
    "from dataclasses import dataclass, fields as datafields\n",
    "from dataclasses_json import dataclass_json\n",
    "\n",
    "\n",
    "@dataclass_json\n",
    "@dataclass\n",
    "class Namespace:\n",
    "    name: str\n",
    "    git_repo: str\n",
    "    git_branch: str\n",
    "    git_user: str\n",
    "    safe_branchname: str\n",
    "    first_deployment_timestamp: datetime\n",
    "    last_deployment_timestamp: datetime\n",
    "    deletion_protection: bool = False\n",
    "    is_suspended: bool = False\n",
    "    status = str"
   ]
  },
  {
   "cell_type": "code",
   "execution_count": null,
   "metadata": {},
   "outputs": [],
   "source": [
    "{f.name:f.type for f in datafields(Namespace)}"
   ]
  },
  {
   "cell_type": "code",
   "execution_count": 15,
   "metadata": {},
   "outputs": [
    {
     "data": {
      "text/plain": [
       "{'api_version': 'v1',\n",
       " 'binary_data': None,\n",
       " 'data': {'one': 'uno', 'two': 'dos'},\n",
       " 'immutable': None,\n",
       " 'kind': 'ConfigMap',\n",
       " 'metadata': {'annotations': None,\n",
       "              'creation_timestamp': datetime.datetime(2024, 12, 25, 3, 24, 13, tzinfo=tzutc()),\n",
       "              'deletion_grace_period_seconds': None,\n",
       "              'deletion_timestamp': None,\n",
       "              'finalizers': None,\n",
       "              'generate_name': None,\n",
       "              'generation': None,\n",
       "              'labels': None,\n",
       "              'managed_fields': None,\n",
       "              'name': 'exp',\n",
       "              'namespace': 'exp',\n",
       "              'owner_references': None,\n",
       "              'resource_version': '5995',\n",
       "              'self_link': None,\n",
       "              'uid': 'fcd54ce6-d41a-4e17-b006-733fe48ad11b'}}"
      ]
     },
     "execution_count": 15,
     "metadata": {},
     "output_type": "execute_result"
    }
   ],
   "source": [
    "c.read_namespaced_config_map(\"exp\",\"exp\")"
   ]
  },
  {
   "cell_type": "code",
   "execution_count": null,
   "metadata": {},
   "outputs": [],
   "source": []
  }
 ],
 "metadata": {
  "kernelspec": {
   "display_name": ".venv",
   "language": "python",
   "name": "python3"
  },
  "language_info": {
   "codemirror_mode": {
    "name": "ipython",
    "version": 3
   },
   "file_extension": ".py",
   "mimetype": "text/x-python",
   "name": "python",
   "nbconvert_exporter": "python",
   "pygments_lexer": "ipython3",
   "version": "3.13.1"
  }
 },
 "nbformat": 4,
 "nbformat_minor": 2
}
