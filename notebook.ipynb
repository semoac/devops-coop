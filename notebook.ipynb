{
 "cells": [
  {
   "cell_type": "code",
   "execution_count": 3,
   "metadata": {},
   "outputs": [],
   "source": [
    "from coop.experimental import Experimental\n",
    "exp = Experimental()\n",
    "c = exp.k8s_v1_core_client"
   ]
  },
  {
   "cell_type": "code",
   "execution_count": 7,
   "metadata": {},
   "outputs": [
    {
     "data": {
      "text/plain": [
       "['exp']"
      ]
     },
     "execution_count": 7,
     "metadata": {},
     "output_type": "execute_result"
    }
   ],
   "source": [
    "r = c.list_namespace(label_selector=\"environment=experimental\")\n",
    "[n.metadata.name for n in r.items]"
   ]
  },
  {
   "cell_type": "code",
   "execution_count": 10,
   "metadata": {},
   "outputs": [
    {
     "ename": "NameError",
     "evalue": "name 'dataclass' is not defined",
     "output_type": "error",
     "traceback": [
      "\u001b[0;31m---------------------------------------------------------------------------\u001b[0m",
      "\u001b[0;31mNameError\u001b[0m                                 Traceback (most recent call last)",
      "Cell \u001b[0;32mIn[10], line 8\u001b[0m\n\u001b[1;32m      3\u001b[0m \u001b[38;5;28;01mfrom\u001b[39;00m \u001b[38;5;21;01mdataclasses\u001b[39;00m \u001b[38;5;28;01mimport\u001b[39;00m fields \u001b[38;5;28;01mas\u001b[39;00m datafields\n\u001b[1;32m      4\u001b[0m \u001b[38;5;28;01mfrom\u001b[39;00m \u001b[38;5;21;01mdataclasses_json\u001b[39;00m \u001b[38;5;28;01mimport\u001b[39;00m dataclass_json\n\u001b[1;32m      7\u001b[0m \u001b[38;5;129m@dataclass_json\u001b[39m\n\u001b[0;32m----> 8\u001b[0m \u001b[38;5;129m@dataclass\u001b[39m\n\u001b[1;32m      9\u001b[0m \u001b[38;5;28;01mclass\u001b[39;00m \u001b[38;5;21;01mNamespace\u001b[39;00m:\n\u001b[1;32m     10\u001b[0m     name: \u001b[38;5;28mstr\u001b[39m\n\u001b[1;32m     11\u001b[0m     git_repo: \u001b[38;5;28mstr\u001b[39m\n",
      "\u001b[0;31mNameError\u001b[0m: name 'dataclass' is not defined"
     ]
    }
   ],
   "source": [
    "from datetime import datetime\n",
    "from typing import Self\n",
    "from dataclasses import dataclass, fields as datafields\n",
    "from dataclasses_json import dataclass_json\n",
    "\n",
    "\n",
    "@dataclass_json\n",
    "@dataclass\n",
    "class Namespace:\n",
    "    name: str\n",
    "    git_repo: str\n",
    "    git_branch: str\n",
    "    git_user: str\n",
    "    safe_branchname: str\n",
    "    first_deployment_timestamp: datetime\n",
    "    last_deployment_timestamp: datetime\n",
    "    deletion_protection: bool = False\n",
    "    is_suspended: bool = False\n",
    "    status = str"
   ]
  },
  {
   "cell_type": "code",
   "execution_count": null,
   "metadata": {},
   "outputs": [],
   "source": []
  }
 ],
 "metadata": {
  "kernelspec": {
   "display_name": ".venv",
   "language": "python",
   "name": "python3"
  },
  "language_info": {
   "codemirror_mode": {
    "name": "ipython",
    "version": 3
   },
   "file_extension": ".py",
   "mimetype": "text/x-python",
   "name": "python",
   "nbconvert_exporter": "python",
   "pygments_lexer": "ipython3",
   "version": "3.13.1"
  }
 },
 "nbformat": 4,
 "nbformat_minor": 2
}
